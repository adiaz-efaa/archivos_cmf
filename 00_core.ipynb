{
 "cells": [
  {
   "cell_type": "code",
   "execution_count": 1,
   "metadata": {
    "ExecuteTime": {
     "end_time": "2022-05-30T11:52:08.426121Z",
     "start_time": "2022-05-30T11:52:08.423209Z"
    }
   },
   "outputs": [],
   "source": [
    "# default_exp core"
   ]
  },
  {
   "cell_type": "code",
   "execution_count": 20,
   "metadata": {
    "ExecuteTime": {
     "end_time": "2022-05-30T12:17:40.408841Z",
     "start_time": "2022-05-30T12:17:40.405133Z"
    }
   },
   "outputs": [],
   "source": [
    "#|export\n",
    "from typing import List, Union, Dict\n",
    "from datetime import date, datetime\n",
    "from pydantic import NonNegativeInt, NonNegativeFloat\n",
    "from pydantic.dataclasses import dataclass\n",
    "import io"
   ]
  },
  {
   "cell_type": "code",
   "execution_count": 25,
   "metadata": {
    "ExecuteTime": {
     "end_time": "2022-05-30T12:20:50.819322Z",
     "start_time": "2022-05-30T12:20:50.806943Z"
    }
   },
   "outputs": [],
   "source": [
    "# Tipos de campos\n",
    "\n",
    "# Tipos de registro\n",
    "\n",
    "Campo = Union[Fecha, Cadena, Entero, EnteroSigno, Flotante, FlotanteSigno]\n",
    "\n",
    "\n",
    "@dataclass\n",
    "class Registro:\n",
    "    campos: List[Campo]\n",
    "    largo: int\n",
    "        \n",
    "    def __str__(self):\n",
    "        return ''.join([str(v) for v in self.campos])\n",
    "    \n",
    "    def __post_init__(self):\n",
    "        largo_campos = sum([len(v) for v in self.campos])\n",
    "        if abs(self.largo) != largo_campos:\n",
    "            raise ValueError(f\"La suma del largo de los campos ({largo_campos}) no es igual al largo del registro ({self.largo}).\")\n",
    "            \n",
    "            \n",
    "            \n",
    "def mk_reg(campos: List[Campo], largo: int):\n",
    "    return Registro(**{'campos': campos, 'largo': largo})\n",
    "\n",
    "\n",
    "# Definir un archivo (como el R07)\n",
    "\n",
    "\n",
    "@dataclass\n",
    "class Archivo:\n",
    "    registros: List[Registro]\n",
    "    nombre: str\n",
    "    fecha: date\n",
    "        \n",
    "    def escribir(self, ruta: str) -> Union[str, None]:\n",
    "        try:\n",
    "            with open(f'{ruta}{self.fecha.isoformat().replace(\"-\", \"\")}_{self.nombre}', 'w') as archivo:\n",
    "                for reg in self.registros:\n",
    "                    archivo.write(f'{str(reg)}\\n')\n",
    "        except Exception as e:\n",
    "            return 'Se produjo el error: ' + str(e)\n",
    "        \n",
    "    def escribir_en_memoria(self):\n",
    "        try:\n",
    "            s = io.StringIO()\n",
    "            for reg in self.registros:\n",
    "                s.write('{}\\n'.format(str(reg)))\n",
    "\n",
    "            return s\n",
    "\n",
    "        except Exception as e:\n",
    "            return 'Se produjo el error: ' + str(e)\n"
   ]
  },
  {
   "cell_type": "code",
   "execution_count": 26,
   "metadata": {
    "ExecuteTime": {
     "end_time": "2022-05-30T12:20:53.514608Z",
     "start_time": "2022-05-30T12:20:53.206633Z"
    }
   },
   "outputs": [],
   "source": [
    "#hide\n",
    "from nbdev.showdoc import *"
   ]
  },
  {
   "cell_type": "markdown",
   "metadata": {},
   "source": [
    "# Core\n",
    "\n",
    "> API details."
   ]
  },
  {
   "cell_type": "markdown",
   "metadata": {},
   "source": [
    "## Tipos de Campo"
   ]
  },
  {
   "cell_type": "code",
   "execution_count": 3,
   "metadata": {
    "ExecuteTime": {
     "end_time": "2022-05-30T12:00:37.055610Z",
     "start_time": "2022-05-30T12:00:37.050235Z"
    }
   },
   "outputs": [],
   "source": [
    "#|export\n",
    "@dataclass\n",
    "class Fecha:\n",
    "    fecha: date\n",
    "    \n",
    "    def __str__(self):\n",
    "        return self.fecha.isoformat().replace(\"-\", \"\")\n",
    "    \n",
    "    def __len__(self):\n",
    "        return 8"
   ]
  },
  {
   "cell_type": "code",
   "execution_count": 5,
   "metadata": {
    "ExecuteTime": {
     "end_time": "2022-05-30T12:01:50.109369Z",
     "start_time": "2022-05-30T12:01:50.106163Z"
    }
   },
   "outputs": [],
   "source": [
    "#|export\n",
    "def fecha(fecha: date) -> Fecha:\n",
    "    return Fecha(fecha=fecha)"
   ]
  },
  {
   "cell_type": "code",
   "execution_count": 9,
   "metadata": {
    "ExecuteTime": {
     "end_time": "2022-05-30T12:10:45.278265Z",
     "start_time": "2022-05-30T12:10:45.272854Z"
    }
   },
   "outputs": [],
   "source": [
    "#|export\n",
    "@dataclass\n",
    "class Cadena:\n",
    "    valor: str\n",
    "    largo: NonNegativeInt\n",
    "    \n",
    "    def __str__(self):\n",
    "        return self.valor[0: min(len(self.valor), abs(self.largo))].ljust(abs(self.largo), ' ')\n",
    "    \n",
    "    def __len__(self):\n",
    "        return abs(self.largo)"
   ]
  },
  {
   "cell_type": "code",
   "execution_count": 11,
   "metadata": {
    "ExecuteTime": {
     "end_time": "2022-05-30T12:11:11.980979Z",
     "start_time": "2022-05-30T12:11:11.977788Z"
    }
   },
   "outputs": [],
   "source": [
    "#|export\n",
    "def cadena(valor: str, largo: NonNegativeInt) -> Cadena:\n",
    "    return Cadena(valor=valor, largo=largo)"
   ]
  },
  {
   "cell_type": "code",
   "execution_count": 13,
   "metadata": {
    "ExecuteTime": {
     "end_time": "2022-05-30T12:12:33.888619Z",
     "start_time": "2022-05-30T12:12:33.884449Z"
    }
   },
   "outputs": [],
   "source": [
    "#|export\n",
    "@dataclass\n",
    "class Entero:\n",
    "    valor: NonNegativeInt\n",
    "    largo: NonNegativeInt\n",
    "        \n",
    "    def __str__(self):\n",
    "        return str(abs(int(round(self.valor, 0)))).zfill(abs(self.largo))\n",
    "    \n",
    "    def __len__(self):\n",
    "        return abs(self.largo)"
   ]
  },
  {
   "cell_type": "code",
   "execution_count": 27,
   "metadata": {
    "ExecuteTime": {
     "end_time": "2022-05-30T12:23:58.910892Z",
     "start_time": "2022-05-30T12:23:58.907342Z"
    }
   },
   "outputs": [],
   "source": [
    "#|export    \n",
    "def entero(valor: NonNegativeInt, largo: NonNegativeInt) -> Entero:\n",
    "    return Entero(valor=valor, largo=largo)"
   ]
  },
  {
   "cell_type": "code",
   "execution_count": 15,
   "metadata": {
    "ExecuteTime": {
     "end_time": "2022-05-30T12:13:36.915211Z",
     "start_time": "2022-05-30T12:13:36.909671Z"
    }
   },
   "outputs": [],
   "source": [
    "#|export\n",
    "@dataclass\n",
    "class EnteroSigno:\n",
    "    valor: int\n",
    "    largo: NonNegativeInt\n",
    "        \n",
    "    def __str__(self):\n",
    "        sgn = \"+\" if self.valor >= 0 else \"-\"\n",
    "        return str(abs(int(round(self.valor, 0)))).zfill(abs(self.largo)) + sgn\n",
    "    \n",
    "    def __len__(self):\n",
    "        return abs(self.largo) + 1"
   ]
  },
  {
   "cell_type": "code",
   "execution_count": 16,
   "metadata": {
    "ExecuteTime": {
     "end_time": "2022-05-30T12:14:13.100173Z",
     "start_time": "2022-05-30T12:14:13.096763Z"
    }
   },
   "outputs": [],
   "source": [
    "#|export    \n",
    "def entero_signo(valor: int, largo: NonNegativeInt) -> EnteroSigno:\n",
    "    return EnteroSigno(valor=valor, largo=largo)"
   ]
  },
  {
   "cell_type": "code",
   "execution_count": 21,
   "metadata": {
    "ExecuteTime": {
     "end_time": "2022-05-30T12:17:58.906381Z",
     "start_time": "2022-05-30T12:17:58.899700Z"
    }
   },
   "outputs": [],
   "source": [
    "#|export\n",
    "@dataclass\n",
    "class Flotante:\n",
    "    valor: NonNegativeFloat\n",
    "    largo_entero: NonNegativeInt\n",
    "    largo_decimales: NonNegativeInt\n",
    "\n",
    "    def __str__(self):\n",
    "        entero = int(abs(self.valor))\n",
    "        decimales = round(abs(self.valor) - entero, abs(self.largo_decimales))\n",
    "        return (\n",
    "            str(entero).rjust(abs(self.largo_entero), '0') +\n",
    "            str(decimales).replace(\"0.\", \"\").ljust(abs(self.largo_decimales), '0')\n",
    "        )\n",
    "    \n",
    "    def __len__(self):\n",
    "        return abs(self.largo_entero) + abs(self.largo_decimales)"
   ]
  },
  {
   "cell_type": "code",
   "execution_count": 22,
   "metadata": {
    "ExecuteTime": {
     "end_time": "2022-05-30T12:18:09.337739Z",
     "start_time": "2022-05-30T12:18:09.334021Z"
    }
   },
   "outputs": [],
   "source": [
    "#|export  \n",
    "def flotante(\n",
    "    valor: NonNegativeFloat, \n",
    "    largo_entero: NonNegativeInt, \n",
    "    largo_decimales: NonNegativeInt\n",
    ") -> Flotante:\n",
    "    return Flotante(\n",
    "        valor=valor,\n",
    "        largo_entero=largo_entero,\n",
    "        largo_decimales=largo_decimales\n",
    "    )"
   ]
  },
  {
   "cell_type": "code",
   "execution_count": 23,
   "metadata": {
    "ExecuteTime": {
     "end_time": "2022-05-30T12:18:34.746446Z",
     "start_time": "2022-05-30T12:18:34.739586Z"
    }
   },
   "outputs": [],
   "source": [
    "#|export  \n",
    "@dataclass\n",
    "class FlotanteSigno:\n",
    "    valor: float\n",
    "    largo_entero: NonNegativeInt\n",
    "    largo_decimales: NonNegativeInt\n",
    "\n",
    "    def __str__(self):\n",
    "        sgn = \"+\" if self.valor >=0 else \"-\"\n",
    "        entero = int(abs(self.valor))\n",
    "        decimales = round(abs(self.valor) - entero, abs(self.largo_decimales))\n",
    "        return (\n",
    "            str(entero).rjust(abs(self.largo_entero), '0') +\n",
    "            str(decimales).replace(\"0.\", \"\").ljust(abs(self.largo_decimales), '0') +\n",
    "            sgn\n",
    "        )\n",
    "    \n",
    "    def __len__(self):\n",
    "        return abs(self.largo_entero) + abs(self.largo_decimales) + 1"
   ]
  },
  {
   "cell_type": "code",
   "execution_count": 28,
   "metadata": {
    "ExecuteTime": {
     "end_time": "2022-05-30T12:32:53.482612Z",
     "start_time": "2022-05-30T12:32:53.478889Z"
    }
   },
   "outputs": [],
   "source": [
    "#|export  \n",
    "def flotante_signo(\n",
    "    valor: float, \n",
    "    largo_entero: NonNegativeInt, \n",
    "    largo_decimales: NonNegativeInt\n",
    ") -> FlotanteSigno:\n",
    "    return FlotanteSigno(\n",
    "        valor=valor,\n",
    "        largo_entero=largo_entero,\n",
    "        largo_decimales=largo_decimales,\n",
    "    )"
   ]
  }
 ],
 "metadata": {
  "hide_input": false,
  "kernelspec": {
   "display_name": "Python 3 (ipykernel)",
   "language": "python",
   "name": "python3"
  },
  "language_info": {
   "codemirror_mode": {
    "name": "ipython",
    "version": 3
   },
   "file_extension": ".py",
   "mimetype": "text/x-python",
   "name": "python",
   "nbconvert_exporter": "python",
   "pygments_lexer": "ipython3",
   "version": "3.10.4"
  },
  "toc": {
   "base_numbering": 1,
   "nav_menu": {},
   "number_sections": true,
   "sideBar": true,
   "skip_h1_title": false,
   "title_cell": "Tabla de Contenidos",
   "title_sidebar": "Contenido",
   "toc_cell": false,
   "toc_position": {},
   "toc_section_display": true,
   "toc_window_display": true
  },
  "varInspector": {
   "cols": {
    "lenName": 16,
    "lenType": 16,
    "lenVar": 40
   },
   "kernels_config": {
    "python": {
     "delete_cmd_postfix": "",
     "delete_cmd_prefix": "del ",
     "library": "var_list.py",
     "varRefreshCmd": "print(var_dic_list())"
    },
    "r": {
     "delete_cmd_postfix": ") ",
     "delete_cmd_prefix": "rm(",
     "library": "var_list.r",
     "varRefreshCmd": "cat(var_dic_list()) "
    }
   },
   "types_to_exclude": [
    "module",
    "function",
    "builtin_function_or_method",
    "instance",
    "_Feature"
   ],
   "window_display": false
  }
 },
 "nbformat": 4,
 "nbformat_minor": 2
}
